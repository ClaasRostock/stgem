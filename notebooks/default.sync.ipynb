{
 "cells": [
  {
   "cell_type": "code",
   "execution_count": null,
   "id": "reverse-deputy",
   "metadata": {},
   "outputs": [],
   "source": [
    "%matplotlib widget\n",
    "import os, sys\n",
    "\n",
    "from common import *"
   ]
  },
  {
   "cell_type": "markdown",
   "id": "mechanical-married",
   "metadata": {},
   "source": [
    "# Load Experiments"
   ]
  },
  {
   "cell_type": "markdown",
   "id": "requested-generation",
   "metadata": {},
   "source": [
    "An experiment consists of several replicas of STGEM runs on a given benchmark.\n",
    "The replicas of an experiment correspond to files on a certain path with file\n",
    "names having a common prefix. Currently the file organization is as follows.\n",
    "The subdirectories of the base directory (by default `output`) correspond to\n",
    "the benchmarks. Whenever a replica prefix is specified, all files (including\n",
    "subdirectories) under `output/benchmark` that have the matching prefix\n",
    "are collected into one experiment."
   ]
  },
  {
   "cell_type": "code",
   "execution_count": null,
   "id": "economic-graphic",
   "metadata": {},
   "outputs": [],
   "source": [
    "# Default path containing subdirectory for each benchmark.\n",
    "output_path_base = os.path.join(\"..\", \"output\")\n",
    "\n",
    "# Which benchmarks are to be included.\n",
    "benchmarks = [\"AFC\", \"F16\"]\n",
    "\n",
    "# Replica prefixes for collecting the experiments.\n",
    "replica_prefixes = {\"AFC\": [\"AFC29\"],\n",
    "                    \"F16\": [\"F16\"]}\n",
    "\n",
    "experiments = loadExperiments(output_path_base, benchmarks, replica_prefixes)"
   ]
  },
  {
   "cell_type": "markdown",
   "id": "dirty-prescription",
   "metadata": {},
   "source": [
    "# Falsification Rate"
   ]
  },
  {
   "cell_type": "code",
   "execution_count": null,
   "id": "declared-positive",
   "metadata": {},
   "outputs": [],
   "source": [
    "print(\"Falsification rates:\")\n",
    "for benchmark in benchmarks:\n",
    "    for experiment in experiments[benchmark]:\n",
    "        FR = falsification_rate(experiments[benchmark][experiment])\n",
    "        print(\"{}, {}: {}\".format(benchmark, experiment, FR))"
   ]
  },
  {
   "cell_type": "markdown",
   "id": "alien-verification",
   "metadata": {},
   "source": [
    "# Visualize Test Inputs and Outputs"
   ]
  },
  {
   "cell_type": "markdown",
   "id": "timely-killer",
   "metadata": {},
   "source": [
    "Visualize tests (indices given in `idx`) from a replica. For signal inputs or\n",
    "outputs, we draw the plots representing the signals. For vector inputs or\n",
    "outputs, we simply print the vector components. The inputs are always\n",
    "denormalized, that is, they are given in the format actually given to the SUT.\n",
    "Outputs are always the outputs of the SUT unmodified."
   ]
  },
  {
   "cell_type": "markdown",
   "id": "announced-integrity",
   "metadata": {},
   "source": [
    "TODO\n",
    "\n",
    "* Include robustness values in the plots."
   ]
  },
  {
   "cell_type": "code",
   "execution_count": null,
   "id": "handed-security",
   "metadata": {},
   "outputs": [],
   "source": [
    "benchmark = \"F16\"\n",
    "experiment = \"F16\"\n",
    "replica_idx = [0]\n",
    "test_idx = [0]\n",
    "\n",
    "for i in replica_idx:\n",
    "    for j in test_idx:\n",
    "        plotTest(experiments[benchmark][experiment][i], j)"
   ]
  },
  {
   "cell_type": "markdown",
   "id": "canadian-consequence",
   "metadata": {
    "heading_collapsed": true
   },
   "source": [
    "# Visualization of 1-3D Vector Input Test Suites."
   ]
  },
  {
   "cell_type": "markdown",
   "id": "elect-dubai",
   "metadata": {
    "hidden": true
   },
   "source": [
    "This visualizes the test suites for SUTs which have vector input of dimension\n",
    "$d$ with $d \\leq 3$. The input space is represented as $[-1, 1]^d$ meaning that\n",
    "inputs are not presented as denormalized to their actual ranges."
   ]
  },
  {
   "cell_type": "code",
   "execution_count": null,
   "id": "eleven-protocol",
   "metadata": {
    "hidden": true
   },
   "outputs": [],
   "source": [
    "benchmark = \"F16\"\n",
    "experiment = \"F16\"\n",
    "idx = [0]\n",
    "\n",
    "for i in idx:\n",
    "    visualize3DTestSuite(experiments[benchmark][experiment], i)"
   ]
  },
  {
   "cell_type": "markdown",
   "id": "surface-violin",
   "metadata": {},
   "source": [
    "# Animate Signal Input/Output Test Suite"
   ]
  },
  {
   "cell_type": "code",
   "execution_count": null,
   "id": "provincial-farmer",
   "metadata": {},
   "outputs": [],
   "source": [
    "benchmark = \"AFC\"\n",
    "experiment = \"AFC29\"\n",
    "replica_idx = 0\n",
    "\n",
    "anim = animateResult(experiments[benchmark][experiment][replica_idx])\n",
    "HTML(anim.to_jshtml())"
   ]
  }
 ],
 "metadata": {
  "kernelspec": {
   "display_name": "Python 3",
   "language": "python",
   "name": "python3"
  },
  "language_info": {
   "codemirror_mode": {
    "name": "ipython",
    "version": 3
   },
   "file_extension": ".py",
   "mimetype": "text/x-python",
   "name": "python",
   "nbconvert_exporter": "python",
   "pygments_lexer": "ipython3",
   "version": "3.9.7"
  }
 },
 "nbformat": 4,
 "nbformat_minor": 5
}
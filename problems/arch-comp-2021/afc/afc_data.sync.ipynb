{
 "cells": [
  {
   "cell_type": "code",
   "execution_count": null,
   "id": "operating-condition",
   "metadata": {},
   "outputs": [],
   "source": [
    "%matplotlib inline\n",
    "import os, sys\n",
    "\n",
    "sys.path.append(os.path.join(\"..\"))\n",
    "from common import *"
   ]
  },
  {
   "cell_type": "code",
   "execution_count": null,
   "id": "aquatic-thinking",
   "metadata": {},
   "outputs": [],
   "source": [
    "output_path_base = os.path.join(\"..\", \"..\", \"..\", \"output\")\n",
    "\n",
    "specification = \"AFC27\"\n",
    "experiments = [\"AFC\"]\n",
    "\n",
    "results = {}\n",
    "for experiment in experiments:\n",
    "    r = load(os.path.join(output_path_base, experiment), specification + \"_\")\n",
    "    if len(r) > 0:\n",
    "        results[experiment] = r"
   ]
  },
  {
   "cell_type": "code",
   "execution_count": null,
   "id": "political-container",
   "metadata": {},
   "outputs": [],
   "source": [
    "print(\"Falsification rates:\")\n",
    "for specification in results:\n",
    "    print(\"{}: {}\".format(specification, falsification_rate(results[specification])))"
   ]
  },
  {
   "cell_type": "code",
   "execution_count": null,
   "id": "through-south",
   "metadata": {},
   "outputs": [],
   "source": [
    "experiment = \"AFC\"\n",
    "print(\"First falsifications:\")\n",
    "print([first_falsification(result) for result in results[experiment]])"
   ]
  },
  {
   "cell_type": "code",
   "execution_count": null,
   "id": "elder-piece",
   "metadata": {},
   "outputs": [],
   "source": [
    "# Plot objective values and minimum along them.\n",
    "experiment = \"AFC\"\n",
    "replica = 0\n",
    "\n",
    "_, _, Y = results[experiment][replica].test_repository.get()\n",
    "Y = np.array(Y).reshape(-1)\n",
    "\n",
    "figs, axs = plt.subplots(1, 2)\n",
    "axs[0].set_title(\"Overall minimum objective\")\n",
    "axs[0].plot(min_along(Y))\n",
    "axs[1].set_title(\"Objective values\")\n",
    "axs[1].plot(Y)"
   ]
  },
  {
   "cell_type": "code",
   "execution_count": null,
   "id": "cosmetic-tooth",
   "metadata": {},
   "outputs": [],
   "source": [
    "# Plot mean minimum objective values for all replicas.\n",
    "experiment = \"AFC\"\n",
    "C = mean_min_along(results[experiment], length=300)\n",
    "\n",
    "fig, ax = plt.subplots(1, 1)\n",
    "ax.plot(C)"
   ]
  },
  {
   "cell_type": "code",
   "execution_count": null,
   "id": "close-fifth",
   "metadata": {},
   "outputs": [],
   "source": [
    "experiment = \"AFC\"\n",
    "replica = 0\n",
    "result = results[experiment][replica]"
   ]
  },
  {
   "cell_type": "code",
   "execution_count": null,
   "id": "opposite-independence",
   "metadata": {},
   "outputs": [],
   "source": [
    "plotTest(result, 100)"
   ]
  },
  {
   "cell_type": "code",
   "execution_count": null,
   "id": "celtic-luxury",
   "metadata": {},
   "outputs": [],
   "source": [
    "anim = animateResult(result)\n",
    "HTML(anim.to_jshtml())"
   ]
  }
 ],
 "metadata": {
  "kernelspec": {
   "display_name": "Python 3",
   "language": "python",
   "name": "python3"
  },
  "language_info": {
   "codemirror_mode": {
    "name": "ipython",
    "version": 3
   },
   "file_extension": ".py",
   "mimetype": "text/x-python",
   "name": "python",
   "nbconvert_exporter": "python",
   "pygments_lexer": "ipython3",
   "version": "3.9.7"
  }
 },
 "nbformat": 4,
 "nbformat_minor": 5
}

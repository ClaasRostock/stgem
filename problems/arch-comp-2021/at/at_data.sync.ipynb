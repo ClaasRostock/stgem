{
 "cells": [
  {
   "cell_type": "code",
   "execution_count": null,
   "id": "ancient-turkish",
   "metadata": {},
   "outputs": [],
   "source": [
    "%matplotlib inline\n",
    "import os, sys\n",
    "\n",
    "sys.path.append(os.path.join(\"..\"))\n",
    "from common import *"
   ]
  },
  {
   "cell_type": "code",
   "execution_count": null,
   "id": "american-warren",
   "metadata": {},
   "outputs": [],
   "source": [
    "output_path_base = os.path.join(\"..\", \"..\", \"..\", \"output\")\n",
    "\n",
    "specification = \"AT2\"\n",
    "experiments = [\"AT\"]\n",
    "\n",
    "results = {}\n",
    "for experiment in experiments:\n",
    "    r = load(os.path.join(output_path_base, experiment), specification + \"_\")\n",
    "    if len(r) > 0:\n",
    "        results[experiment] = r"
   ]
  },
  {
   "cell_type": "code",
   "execution_count": null,
   "id": "electronic-greece",
   "metadata": {},
   "outputs": [],
   "source": [
    "print(\"Falsification rates:\")\n",
    "for specification in results:\n",
    "    print(\"{}: {}\".format(specification, falsification_rate(results[specification])))"
   ]
  },
  {
   "cell_type": "code",
   "execution_count": null,
   "id": "pediatric-blackjack",
   "metadata": {},
   "outputs": [],
   "source": [
    "experiment = \"AT\"\n",
    "print(\"First falsifications:\")\n",
    "print([first_falsification(result) for result in results[experiment]])"
   ]
  },
  {
   "cell_type": "code",
   "execution_count": null,
   "id": "waiting-absorption",
   "metadata": {},
   "outputs": [],
   "source": [
    "# Plot objective values and minimum along them.\n",
    "experiment = \"AT\"\n",
    "replica = 0\n",
    "\n",
    "_, _, Y = results[experiment][replica].test_repository.get()\n",
    "Y = np.array(Y).reshape(-1)\n",
    "\n",
    "figs, axs = plt.subplots(1, 2)\n",
    "axs[0].set_title(\"Overall minimum objective\")\n",
    "axs[0].plot(min_along(Y))\n",
    "axs[1].set_title(\"Objective values\")\n",
    "axs[1].plot(Y)"
   ]
  },
  {
   "cell_type": "code",
   "execution_count": null,
   "id": "sensitive-cache",
   "metadata": {},
   "outputs": [],
   "source": [
    "# Plot mean minimum objective values for all replicas.\n",
    "experiment = \"AT\"\n",
    "C = mean_min_along(results[experiment], length=300)\n",
    "\n",
    "fig, ax = plt.subplots(1, 1)\n",
    "ax.plot(C)"
   ]
  },
  {
   "cell_type": "code",
   "execution_count": null,
   "id": "mexican-disposal",
   "metadata": {},
   "outputs": [],
   "source": [
    "experiment = \"AT\"\n",
    "replica = 0\n",
    "result = results[experiment][replica]"
   ]
  },
  {
   "cell_type": "code",
   "execution_count": null,
   "id": "stock-aerospace",
   "metadata": {},
   "outputs": [],
   "source": [
    "plotTest(result, 10)"
   ]
  },
  {
   "cell_type": "code",
   "execution_count": null,
   "id": "accompanied-studio",
   "metadata": {},
   "outputs": [],
   "source": [
    "anim = animateResult(result)\n",
    "HTML(anim.to_jshtml())"
   ]
  }
 ],
 "metadata": {
  "kernelspec": {
   "display_name": "Python 3",
   "language": "python",
   "name": "python3"
  },
  "language_info": {
   "codemirror_mode": {
    "name": "ipython",
    "version": 3
   },
   "file_extension": ".py",
   "mimetype": "text/x-python",
   "name": "python",
   "nbconvert_exporter": "python",
   "pygments_lexer": "ipython3",
   "version": "3.9.7"
  }
 },
 "nbformat": 4,
 "nbformat_minor": 5
}

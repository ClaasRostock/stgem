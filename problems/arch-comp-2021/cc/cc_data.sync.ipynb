{
 "cells": [
  {
   "cell_type": "code",
   "execution_count": null,
   "id": "still-glory",
   "metadata": {},
   "outputs": [],
   "source": [
    "%matplotlib inline\n",
    "import os, sys\n",
    "\n",
    "sys.path.append(os.path.join(\"..\"))\n",
    "from common import *"
   ]
  },
  {
   "cell_type": "code",
   "execution_count": null,
   "id": "coral-governor",
   "metadata": {},
   "outputs": [],
   "source": [
    "output_path_base = os.path.join(\"..\", \"..\", \"..\", \"output\")\n",
    "\n",
    "specification = \"CC1\"\n",
    "experiments = [\"\"]\n",
    "\n",
    "results = {}\n",
    "for experiment in experiments:\n",
    "    r = load(os.path.join(output_path_base, experiment), specification + \"_\")\n",
    "    if len(r) > 0:\n",
    "        results[experiment] = r"
   ]
  },
  {
   "cell_type": "code",
   "execution_count": null,
   "id": "comic-cameroon",
   "metadata": {},
   "outputs": [],
   "source": [
    "experiment = \"\"\n",
    "replica = 0\n",
    "result = results[experiment][replica]"
   ]
  },
  {
   "cell_type": "code",
   "execution_count": null,
   "id": "greek-score",
   "metadata": {},
   "outputs": [],
   "source": [
    "plotTest(result, 0)"
   ]
  }
 ],
 "metadata": {
  "kernelspec": {
   "display_name": "Python 3",
   "language": "python",
   "name": "python3"
  },
  "language_info": {
   "codemirror_mode": {
    "name": "ipython",
    "version": 3
   },
   "file_extension": ".py",
   "mimetype": "text/x-python",
   "name": "python",
   "nbconvert_exporter": "python",
   "pygments_lexer": "ipython3",
   "version": "3.9.7"
  }
 },
 "nbformat": 4,
 "nbformat_minor": 5
}

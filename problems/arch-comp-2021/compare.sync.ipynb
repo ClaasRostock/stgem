{
 "cells": [
  {
   "cell_type": "code",
   "execution_count": null,
   "id": "complimentary-cotton",
   "metadata": {},
   "outputs": [],
   "source": [
    "import os, importlib\n",
    "\n",
    "import matplotlib.pyplot as plt\n",
    "import numpy as np\n",
    "\n",
    "from common import *"
   ]
  },
  {
   "cell_type": "code",
   "execution_count": null,
   "id": "instructional-boundary",
   "metadata": {},
   "outputs": [],
   "source": [
    "output_base_path = os.path.join(\"..\", \"..\", \"output\")\n",
    "\n",
    "experiments = [\"ogan_uniform\", \"wogan_uniform\", \"random_uniform\"]\n",
    "benchmarks = [\"AFC27\", \"AFC29\", \"AT1\", \"AT2\", \"AT51\", \"AT52\", \"AT53\", \"AT54\", \"AT6A\", \"AT6B\", \"AT6C\", \"AT6ABC\", \"CC1\", \"CC2\", \"CC3\", \"CC4\", \"CC5\", \"CCX\", \"F16\", \"NN\", \"NNX\"]\n",
    "#benchmarks = [\"CC1\", \"CC2\", \"CC3\", \"CC4\", \"CC5\", \"CCX\"]\n",
    "benchmarks = [\"AT1\", \"AT2\"]\n",
    "\n",
    "raw_data = {}\n",
    "# Settings this to false reduces memory usage.\n",
    "load_sut_output = False\n",
    "for experiment in experiments:\n",
    "    raw_data[experiment] = {}\n",
    "    for benchmark in benchmarks:\n",
    "        raw_data[experiment][benchmark] = load(os.path.join(output_base_path, experiment), benchmark, load_sut_output=load_sut_output)"
   ]
  },
  {
   "cell_type": "code",
   "execution_count": null,
   "id": "tracked-consistency",
   "metadata": {},
   "outputs": [],
   "source": [
    "data = raw_data"
   ]
  },
  {
   "cell_type": "code",
   "execution_count": null,
   "id": "guilty-solomon",
   "metadata": {},
   "outputs": [],
   "source": [
    "# Falsification rates.\n",
    "FR = {}\n",
    "for experiment in experiments:\n",
    "    FR[experiment] = {}\n",
    "    for benchmark in benchmarks:\n",
    "        FR[experiment][benchmark] = falsification_rate(data[experiment][benchmark])\n",
    "        if FR[experiment][benchmark] is None:\n",
    "            FR[experiment][benchmark] = 0"
   ]
  },
  {
   "cell_type": "code",
   "execution_count": null,
   "id": "beginning-edition",
   "metadata": {},
   "outputs": [],
   "source": [
    "# Plot falsification rates.\n",
    "fig = plt.figure(figsize=(10, 10))\n",
    "X_axis = np.arange(len(benchmarks))\n",
    "plt.bar(X_axis - 0.2, [FR[\"ogan_uniform\"][benchmark] for benchmark in benchmarks], 0.2, label=\"OGAN\")\n",
    "plt.bar(X_axis + 0.0, [FR[\"wogan_uniform\"][benchmark] for benchmark in benchmarks], 0.2, label=\"WOGAN\")\n",
    "plt.bar(X_axis + 0.2, [FR[\"random_uniform\"][benchmark] for benchmark in benchmarks], 0.2, label=\"RANDOM\")\n",
    "\n",
    "plt.xticks(X_axis, benchmarks)\n",
    "plt.xlabel(\"Benchmarks\")\n",
    "plt.ylabel(\"Falsification Rates\")\n",
    "plt.title(\"Falsification Rates for Different Algorithms\")\n",
    "plt.legend()\n",
    "plt.show()"
   ]
  },
  {
   "cell_type": "code",
   "execution_count": null,
   "id": "actual-bargain",
   "metadata": {},
   "outputs": [],
   "source": [
    "# First falsifications.\n",
    "FF = {}\n",
    "for experiment in experiments:\n",
    "    FF[experiment] = {}\n",
    "    for benchmark in benchmarks:\n",
    "        X = [first_falsification(data[experiment][benchmark][i]) for i in range(len(data[experiment][benchmark]))]\n",
    "        FF[experiment][benchmark] = [x for x in X if x is not None]\n",
    "\n",
    "X1 = [FF[\"ogan_uniform\"][benchmark] for benchmark in benchmarks]\n",
    "X2 = [FF[\"wogan_uniform\"][benchmark] for benchmark in benchmarks]\n",
    "X3 = [FF[\"random_uniform\"][benchmark] for benchmark in benchmarks]\n",
    "condensed_boxplot([X1, X2, X3], benchmarks, [\"OGAN\", \"WOGAN\", \"RANDOM\"], [\"blue\", \"orange\", \"green\"])"
   ]
  }
 ],
 "metadata": {
  "kernelspec": {
   "display_name": "Python 3",
   "language": "python",
   "name": "python3"
  },
  "language_info": {
   "codemirror_mode": {
    "name": "ipython",
    "version": 3
   },
   "file_extension": ".py",
   "mimetype": "text/x-python",
   "name": "python",
   "nbconvert_exporter": "python",
   "pygments_lexer": "ipython3",
   "version": "3.9.7"
  }
 },
 "nbformat": 4,
 "nbformat_minor": 5
}

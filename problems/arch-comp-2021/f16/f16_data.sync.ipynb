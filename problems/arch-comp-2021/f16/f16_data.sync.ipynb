{
 "cells": [
  {
   "cell_type": "code",
   "execution_count": null,
   "id": "sporting-program",
   "metadata": {},
   "outputs": [],
   "source": [
    "import os, sys\n",
    "\n",
    "sys.path.append(os.path.join(\"..\", \"..\", \"..\"))\n",
    "\n",
    "import matplotlib.pyplot as plt\n",
    "import numpy as np\n",
    "\n",
    "from stgem.generator import STGEMResult"
   ]
  },
  {
   "cell_type": "code",
   "execution_count": null,
   "id": "wooden-badge",
   "metadata": {},
   "outputs": [],
   "source": [
    "def load_results(files):\n",
    "    results = []\n",
    "    for file in files:\n",
    "        results.append(STGEMResult.restore_from_file(file))\n",
    "\n",
    "    return results"
   ]
  },
  {
   "cell_type": "code",
   "execution_count": null,
   "id": "mental-astrology",
   "metadata": {},
   "outputs": [],
   "source": [
    "def load(path, prefix):\n",
    "    files = [os.path.join(path, file) for file in os.listdir(path) if os.path.basename(file).startswith(prefix)]\n",
    "    files.sort()\n",
    "    return load_results(files)\n",
    "\n",
    "\n",
    "output_path_base = os.path.join(\"..\", \"..\", \"..\", \"output\")\n",
    "\n",
    "specification = \"F16\"\n",
    "experiments = [\"F16\", \"F16_dense\", \"F16_batch\", \"F16_300\", \"F16_ne\", \"F16_lr1\", \"F16_uniform\", \"F16_python\", \"F16_python_keras\"]\n",
    "\n",
    "results = {}\n",
    "for experiment in experiments:\n",
    "    r = load(os.path.join(output_path_base, experiment), specification + \"_\")\n",
    "    if len(r) > 0:\n",
    "        results[experiment] = r"
   ]
  },
  {
   "cell_type": "code",
   "execution_count": null,
   "id": "apparent-bones",
   "metadata": {},
   "outputs": [],
   "source": [
    "def falsification_rate(results):\n",
    "    c = 0\n",
    "    for result in results:\n",
    "        c += 1 if any(step.success for step in result.step_results) else 0\n",
    "\n",
    "    return c/len(results)\n",
    "\n",
    "print(\"Falsification rates:\")\n",
    "for experiment in experiments:\n",
    "    print(\"{}: {}\".format(experiment, falsification_rate(results[experiment])))"
   ]
  },
  {
   "cell_type": "code",
   "execution_count": null,
   "id": "grave-youth",
   "metadata": {},
   "outputs": [],
   "source": [
    "def min_along(X, length=None):\n",
    "    # Return the minimum so far along X.\n",
    "    m = 1.0\n",
    "    A = []\n",
    "    for i in range(len(X) if length is None else length):\n",
    "        o = X[i] if i < len(X) else 1.0\n",
    "        if o < m:\n",
    "            m = o\n",
    "        A.append(m)\n",
    "    return A\n",
    "\n",
    "def mean_min_along(results, length=None):\n",
    "    A = []\n",
    "    for i in range(len(results)):\n",
    "        _, _, Y = results[i].test_repository.get()\n",
    "        Y = [Y[i][0] for i in range(len(Y))]\n",
    "        B = min_along(Y, length=length)\n",
    "        A.append(B)\n",
    "\n",
    "    A = np.array(A)\n",
    "    C = np.mean(A, axis=0)\n",
    "\n",
    "    return C"
   ]
  },
  {
   "cell_type": "code",
   "execution_count": null,
   "id": "lined-marina",
   "metadata": {},
   "outputs": [],
   "source": [
    "figs, axs = plt.subplots(len(experiments), 1, figsize=(10, 30))\n",
    "for i, experiment in enumerate(experiments):\n",
    "    A = mean_min_along(results[experiment], length=300)\n",
    "    axs[i].set_title(experiment)\n",
    "    axs[i].set_ylim(0.00, 0.08)\n",
    "    axs[i].plot(A)"
   ]
  },
  {
   "cell_type": "code",
   "execution_count": null,
   "id": "prime-animation",
   "metadata": {},
   "outputs": [],
   "source": [
    "idx = 0\n",
    "i = 0\n",
    "X, Z, Y = results_1[idx].test_repository.get()\n",
    "\n",
    "print(\"Input:\")\n",
    "print(\"  ROLL = {}\".format(Z[i][0][0]))\n",
    "print(\"  PITCH = {}\".format(Z[i][0][1]))\n",
    "print(\"  YAW = {}\".format(Z[i][0][2]))\n",
    "\n",
    "fig, axs = plt.subplots(1, 1)\n",
    "fig.suptitle(\"Output signals:\")\n",
    "axs.set_title(\"ALTITUDE\")\n",
    "axs.minorticks_on()\n",
    "axs.plot(Z[i][3], Z[i][1][0])\n",
    "\n",
    "print(\"Robustness: {}\".format(Y[i]))"
   ]
  }
 ],
 "metadata": {
  "kernelspec": {
   "display_name": "Python 3",
   "language": "python",
   "name": "python3"
  },
  "language_info": {
   "codemirror_mode": {
    "name": "ipython",
    "version": 3
   },
   "file_extension": ".py",
   "mimetype": "text/x-python",
   "name": "python",
   "nbconvert_exporter": "python",
   "pygments_lexer": "ipython3",
   "version": "3.9.7"
  }
 },
 "nbformat": 4,
 "nbformat_minor": 5
}

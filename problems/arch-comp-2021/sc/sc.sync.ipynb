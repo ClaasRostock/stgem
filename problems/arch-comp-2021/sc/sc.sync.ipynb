{
 "cells": [
  {
   "cell_type": "code",
   "execution_count": null,
   "id": "established-maker",
   "metadata": {},
   "outputs": [],
   "source": [
    "import os, sys\n",
    "\n",
    "sys.path.append(os.path.join(\"..\", \"..\", \"..\"))\n",
    "\n",
    "import matplotlib.pyplot as plt\n",
    "import numpy as n\n",
    "\n",
    "from stgem.generator import STGEMResult"
   ]
  },
  {
   "cell_type": "code",
   "execution_count": null,
   "id": "affiliated-working",
   "metadata": {},
   "outputs": [],
   "source": [
    "def load_results(files):\n",
    "    results = []\n",
    "    for file in files:\n",
    "        results.append(STGEMResult.restore_from_file(file))\n",
    "\n",
    "    return results"
   ]
  },
  {
   "cell_type": "code",
   "execution_count": null,
   "id": "smart-there",
   "metadata": {},
   "outputs": [],
   "source": [
    "def load(path, prefix):\n",
    "    files = [os.path.join(path, file) for file in os.listdir(path) if os.path.basename(file).startswith(prefix)]\n",
    "    files.sort()\n",
    "    return load_results(files)\n",
    "\n",
    "output_path_base = os.path.join(\"..\", \"..\", \"..\", \"output\")\n",
    "\n",
    "specifications = [\"SC\",\n",
    "                 ]\n",
    "\n",
    "results = {}\n",
    "for specification in specifications:\n",
    "    r = load(os.path.join(output_path_base, \"SC\"), specification + \"_\")\n",
    "    if len(r) > 0:\n",
    "        results[specification] = r"
   ]
  },
  {
   "cell_type": "code",
   "execution_count": null,
   "id": "static-billion",
   "metadata": {},
   "outputs": [],
   "source": [
    "def falsification_rate(results):\n",
    "    c = 0\n",
    "    for result in results:\n",
    "       c += 1 if any(step.success for step in result.step_results) else 0\n",
    "\n",
    "    return c/len(results)\n",
    "\n",
    "print(\"Falsification rates:\")\n",
    "for specification in results:\n",
    "    print(\"{}: {}\".format(specification, falsification_rate(results[specification])))"
   ]
  },
  {
   "cell_type": "code",
   "execution_count": null,
   "id": "indoor-experiment",
   "metadata": {},
   "outputs": [],
   "source": [
    "idx = 0\n",
    "i = 0\n",
    "X, Z, Y = results_1[idx].test_repository.get()\n",
    "\n",
    "fig, axs = plt.subplots(1, 1)\n",
    "fig.suptitle(\"Input signals:\")\n",
    "axs.set_title(\"FN\")\n",
    "axs.minorticks_on()\n",
    "axs.plot(Z[i][2], Z[i][0][0])\n",
    "\n",
    "fig, axs = plt.subplots(1, 1)\n",
    "fig.suptitle(\"Output signals:\")\n",
    "axs.set_title(\"PRESSURE\")\n",
    "axs.minorticks_on()\n",
    "axs.plot(Z[i][3], Z[i][1][3])\n",
    "\n",
    "print(\"Robustness: {}\".format(Y[i]))"
   ]
  }
 ],
 "metadata": {
  "kernelspec": {
   "display_name": "Python 3",
   "language": "python",
   "name": "python3"
  },
  "language_info": {
   "codemirror_mode": {
    "name": "ipython",
    "version": 3
   },
   "file_extension": ".py",
   "mimetype": "text/x-python",
   "name": "python",
   "nbconvert_exporter": "python",
   "pygments_lexer": "ipython3",
   "version": "3.9.7"
  }
 },
 "nbformat": 4,
 "nbformat_minor": 5
}

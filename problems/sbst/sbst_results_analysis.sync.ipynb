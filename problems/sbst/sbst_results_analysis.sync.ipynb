{
 "cells": [
  {
   "cell_type": "code",
   "execution_count": null,
   "id": "6f6e93b7",
   "metadata": {},
   "outputs": [],
   "source": [
    "import os, sys\n",
    "from math import degrees\n",
    "\n",
    "sys.path.append(os.path.join(\"..\", \"..\"))\n",
    "sys.path.append(os.path.join(\"..\", \"..\", \"notebooks\"))\n",
    "from common import *"
   ]
  },
  {
   "cell_type": "markdown",
   "id": "475739ad",
   "metadata": {},
   "source": [
    "# Domain-Specific Code"
   ]
  },
  {
   "cell_type": "code",
   "execution_count": null,
   "id": "f129295d",
   "metadata": {},
   "outputs": [],
   "source": [
    "def steering_sd(sut_output):\n",
    "    \"\"\"Computes the standard deviation of the steering angle from a SUTOutput\n",
    "    object. This is a behavioral diversity measure used in the SBST 2022\n",
    "    report.\"\"\"\n",
    "\n",
    "    return np.std(sut_output.outputs[3])\n",
    "\n",
    "def direction_coverage(sut_input, n_bins=36):\n",
    "    \"\"\"Compute the coverage of the the road directions. That is, compute the\n",
    "    angles between two consecutive road points and place the angles into bins\n",
    "    (default 36 bins, i.e., bins cover 10 degrees) and return the proportion of\n",
    "    bins covered. The angle is defined as the angle to the vertical axis.\"\"\"\n",
    "\n",
    "    points = sut_input.input_denormalized\n",
    "\n",
    "    # Compute the angles.\n",
    "    angles = []\n",
    "    for i in range(0, points.shape[1], 2):\n",
    "        vector = np.array([points[0,i+1] - points[0,i], points[1,i+1] - points[1,i]])\n",
    "        angle = degrees(np.arccos( vector[1] / np.linalg.norm(vector) ))\n",
    "        angles.append(angle)\n",
    "\n",
    "    # Place into bins.\n",
    "    bins = np.linspace(0.0, 360.0, num=n_bins + 1)\n",
    "    covered_bins = set(np.digitize(angles, bins))\n",
    "\n",
    "    return len(covered_bins) / len(bins)"
   ]
  },
  {
   "cell_type": "markdown",
   "id": "d2c7ab46",
   "metadata": {},
   "source": [
    "# Load Experiments"
   ]
  },
  {
   "cell_type": "code",
   "execution_count": null,
   "id": "57172ce9",
   "metadata": {},
   "outputs": [],
   "source": [
    "output_path_base = os.path.join(\"..\", \"..\", \"output\")\n",
    "\n",
    "# Replica prefixes for collecting the experiments.\n",
    "replica_prefixes = {\n",
    "    \"SBST\": [\"SBST\", \"1000\"]\n",
    "}\n",
    "\n",
    "experiments = loadExperiments(output_path_base, [\"SBST\"], replica_prefixes)\n",
    "experiments = experiments[\"SBST\"]\n",
    "\n",
    "failure_threshold = 0.05"
   ]
  },
  {
   "cell_type": "markdown",
   "id": "455fb252",
   "metadata": {},
   "source": [
    "# Number of Failed Tests"
   ]
  },
  {
   "cell_type": "code",
   "execution_count": null,
   "id": "67b3de1b",
   "metadata": {},
   "outputs": [],
   "source": [
    "def number_of_failed_tests(experiment, threshold):\n",
    "    out = []\n",
    "    for result in experiment:\n",
    "        _, _, Y = result.test_repository.get()\n",
    "        Y = np.array(Y).reshape(-1)\n",
    "        N = sum(y <= threshold for y in Y)\n",
    "        out.append(N)\n",
    "\n",
    "    return out"
   ]
  },
  {
   "cell_type": "code",
   "execution_count": null,
   "id": "d1178759",
   "metadata": {},
   "outputs": [],
   "source": [
    "data = []\n",
    "for identifier in experiments:\n",
    "    failed_tests = number_of_failed_tests(experiments[identifier], failure_threshold)\n",
    "    data.append(failed_tests)\n",
    "    print(failed_tests)\n",
    "\n",
    "own_boxplot(data, list(experiments), title=\"Number of Failed Tests\", ylabel=\"Number of Failed Tests\")"
   ]
  },
  {
   "cell_type": "code",
   "execution_count": null,
   "id": "dc8d01be",
   "metadata": {},
   "outputs": [],
   "source": [
    "result = experiments[\"1000\"][0]\n",
    "tr = result.test_repository\n",
    "X, Z, Y = tr.get()\n",
    "Y = np.array(Y).reshape(-1)\n",
    "\n",
    "idx = []\n",
    "for i in range(len(Y)):\n",
    "    if Y[i] <= 0.05:\n",
    "        idx.append(i)\n",
    "\n",
    "for i in idx:\n",
    "    sut_output = Z[i]\n",
    "    dl = sut_output.outputs[1]\n",
    "    dr = sut_output.outputs[2]\n",
    "    j = np.argmin(dl)\n",
    "    k = np.argmin(dr)\n",
    "    print(i)\n",
    "    print(\"  L: {}, {}, {}\".format(j, dl[j], dr[j]))\n",
    "    print(\"  R: {}, {}, {}\".format(k, dl[k], dr[k]))"
   ]
  }
 ],
 "metadata": {
  "kernelspec": {
   "display_name": "venv",
   "language": "python",
   "name": "venv"
  },
  "language_info": {
   "codemirror_mode": {
    "name": "ipython",
    "version": 3
   },
   "file_extension": ".py",
   "mimetype": "text/x-python",
   "name": "python",
   "nbconvert_exporter": "python",
   "pygments_lexer": "ipython3",
   "version": "3.9.15"
  }
 },
 "nbformat": 4,
 "nbformat_minor": 5
}

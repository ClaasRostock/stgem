{
 "cells": [
  {
   "cell_type": "code",
   "execution_count": null,
   "id": "b614be75",
   "metadata": {},
   "outputs": [],
   "source": [
    "import os, sys\n",
    "\n",
    "sys.path.append(os.path.join(\"..\", \"..\"))\n",
    "sys.path.append(os.path.join(\"..\", \"..\", \"notebooks\"))\n",
    "from common import *"
   ]
  },
  {
   "cell_type": "markdown",
   "id": "a910f4ba",
   "metadata": {},
   "source": [
    "# Load Experiments"
   ]
  },
  {
   "cell_type": "code",
   "execution_count": null,
   "id": "57172ce9",
   "metadata": {},
   "outputs": [],
   "source": [
    "output_path_base = os.path.join(\"..\", \"..\", \"output\")\n",
    "\n",
    "# Replica prefixes for collecting the experiments.\n",
    "replica_prefixes = {\n",
    "    \"SBST\": [\"SBST\"]\n",
    "}\n",
    "\n",
    "experiments = loadExperiments(output_path_base, [\"SBST\"], replica_prefixes)\n",
    "experiments = experiments[\"SBST\"]\n",
    "\n",
    "failure_threshold = 0.05"
   ]
  },
  {
   "cell_type": "markdown",
   "id": "8dd3c43a",
   "metadata": {},
   "source": [
    "# Number of Failed Tests"
   ]
  },
  {
   "cell_type": "code",
   "execution_count": null,
   "id": "c93f2f3e",
   "metadata": {},
   "outputs": [],
   "source": [
    "def number_of_failed_tests(experiment, threshold):\n",
    "    out = []\n",
    "    for result in experiment:\n",
    "        _, _, Y = result.test_repository.get()\n",
    "        Y = np.array(Y).reshape(-1)\n",
    "        N = sum(y <= threshold for y in Y)\n",
    "        out.append(N)\n",
    "\n",
    "    return out"
   ]
  },
  {
   "cell_type": "code",
   "execution_count": null,
   "id": "703ffd98",
   "metadata": {},
   "outputs": [],
   "source": [
    "data = []\n",
    "for identifier in experiments:\n",
    "    failed_tests = number_of_failed_tests(experiments[identifier], failure_threshold)\n",
    "    data.append(failed_tests)\n",
    "    print(failed_tests)\n",
    "\n",
    "own_boxplot(data, list(experiments), title=\"Number of Failed Tests\", ylabel=\"Number of Failed Tests\")"
   ]
  },
  {
   "cell_type": "code",
   "execution_count": null,
   "id": "358bc09a",
   "metadata": {},
   "outputs": [],
   "source": [
    "print(experiments)"
   ]
  }
 ],
 "metadata": {
  "kernelspec": {
   "display_name": "venv",
   "language": "python",
   "name": "venv"
  },
  "language_info": {
   "codemirror_mode": {
    "name": "ipython",
    "version": 3
   },
   "file_extension": ".py",
   "mimetype": "text/x-python",
   "name": "python",
   "nbconvert_exporter": "python",
   "pygments_lexer": "ipython3",
   "version": "3.9.15"
  }
 },
 "nbformat": 4,
 "nbformat_minor": 5
}

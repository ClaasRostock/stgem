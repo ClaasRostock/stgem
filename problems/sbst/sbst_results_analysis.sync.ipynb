{
 "cells": [
  {
   "cell_type": "code",
   "execution_count": null,
   "id": "db9827fb",
   "metadata": {},
   "outputs": [],
   "source": [
    "import itertools, math, os, sys\n",
    "\n",
    "sys.path.append(os.path.join(\"..\", \"..\"))\n",
    "sys.path.append(os.path.join(\"..\", \"..\", \"notebooks\"))\n",
    "from common import *\n",
    "from util import test_to_road_points"
   ]
  },
  {
   "cell_type": "markdown",
   "id": "aef6f4de",
   "metadata": {},
   "source": [
    "# Domain-Specific Code"
   ]
  },
  {
   "cell_type": "code",
   "execution_count": null,
   "id": "80126241",
   "metadata": {},
   "outputs": [],
   "source": [
    "def descale(test, input_range):\n",
    "    \"\"\"Descale a test without loading the actual SBST SUT.\"\"\"\n",
    "\n",
    "    from stgem.sut import SUT\n",
    "    sut = SUT()\n",
    "    input_range = [input_range]*len(test)\n",
    "    return sut.descale(test.reshape(1, -1), input_range).reshape(-1)\n",
    "\n",
    "def road_visualization(result, start, end):\n",
    "    \"\"\"Function for visualizing roads in a replica. The numbers start and end\n",
    "    indicate which roads (tests) to include. For best results, ensure that\n",
    "    end - start is a multiple of 10.\"\"\"\n",
    "    \n",
    "    columns = 10\n",
    "    rows = int((end - start)/columns)\n",
    "\n",
    "    # Input range for descaling tests.\n",
    "    input_range = [-result.sut_parameters[\"curvature_range\"], result.sut_parameters[\"curvature_range\"]]\n",
    "    \n",
    "    fig, axes = plt.subplots(rows, columns, figsize=(64, 64), sharex = True, sharey = True)\n",
    "    plt.xticks([])\n",
    "    plt.yticks([])\n",
    "    idx = 0\n",
    "    failed_cnt = 0\n",
    "    for row in range(rows):\n",
    "        for column in range(columns):\n",
    "            _input, _, _objective = result.test_repository.get(start + idx)\n",
    "            robustness = round(_objective[0], 3)\n",
    "            axes[row, column].title.set_text(f\"[{(start+idx)}] - Robustness: {robustness}\")\n",
    "            \n",
    "            # Highlight the roads that produced a failed test\n",
    "            if robustness <= 0.05:\n",
    "                color = \"r\"\n",
    "                failed_cnt += 1\n",
    "            else:\n",
    "                color = \"b\"\n",
    "\n",
    "            # Plot interpolated points connected by lines.\n",
    "            x, y = _input.input_denormalized\n",
    "            axes[row,column].plot(x, y, color=color)\n",
    "\n",
    "            # Plot the control points.\n",
    "            points = np.array(test_to_road_points(descale(_input.inputs, input_range), result.sut_parameters[\"step_length\"], result.sut_parameters[\"map_size\"]))\n",
    "            axes[row,column].plot(points[:,0], points[:,1], \"{}o\".format(color))\n",
    "\n",
    "            idx += 1\n",
    "\n",
    "    fig.suptitle(f'Road visualization of {idx} test runs where {failed_cnt} failed - Seed: {result.seed}', fontsize=40) \n",
    "    #plt.savefig(f'road_images/{filename}.png', pad_inches=0.1, dpi=150)\n",
    "    #plt.close(fig)\n",
    "    plt.show()\n",
    "\n",
    "def move_road(P, x0, y0):\n",
    "    \"\"\"Moves the sequence of points P in such a way that the initial point is\n",
    "    at (x0, y0) and the initial direction is up.\"\"\"\n",
    "\n",
    "    X = np.array(P)\n",
    "\n",
    "    if len(X) == 1:\n",
    "        Q = np.array([x0, y0])\n",
    "    else:\n",
    "        # Find the translation angle.\n",
    "        angle = math.pi / 2 - math.atan2(X[1,1] - X[0,1], X[1,0] - X[0,0])\n",
    "        # Translation vector to origin.\n",
    "        o_x = -X[0,0]\n",
    "        o_y = -X[0,1]\n",
    "\n",
    "        Q = np.empty_like(X)\n",
    "        for n in range(len(X)):\n",
    "            # Map to origin for rotation.\n",
    "            x = X[n,0] + o_x\n",
    "            y = X[n,1] + o_y\n",
    "            # Rotate the point and translate the resulting point back.\n",
    "            Q[n,0] = math.cos(angle) * x - math.sin(angle) * y + x0\n",
    "            Q[n,1] = math.sin(angle) * x + math.cos(angle) * y + y0\n",
    "\n",
    "    if isinstance(P, list):\n",
    "        return Q.tolist()\n",
    "    else:\n",
    "        return Q\n",
    "\n",
    "def steering_sd(test_repository):\n",
    "    \"\"\"Compute the standard deviation of the steering angles for each test in\n",
    "    the test suite. This is a behavioral diversity measure used in the SBST\n",
    "    2022 report.\"\"\"\n",
    "\n",
    "    _, Z, _ = test_repository.get()\n",
    "\n",
    "    data = [np.std(sut_output.outputs[3]) for sut_output in Z]\n",
    "\n",
    "    return data\n",
    "\n",
    "def direction_coverage(test_repository, bins=36):\n",
    "    \"\"\"Compute the coverage of road directions of the test suite. That is, for\n",
    "    each road, compute the angles between two consecutive road points and place\n",
    "    the angles into bins (default 36 bins, i.e., bins cover 10 degrees) and\n",
    "    return the proportion of bins covered. The angle is defined as the angle to\n",
    "    the vertical axis. This is a structural diversity measure used in the SBST\n",
    "    2022 report.\"\"\"\n",
    "\n",
    "    def road_coverage(sut_input, bins):\n",
    "        points = sut_input.input_denormalized\n",
    "\n",
    "        # Compute the angles.\n",
    "        angles = []\n",
    "        for i in range(0, points.shape[1] - 1, 2):\n",
    "            vector = np.array([points[0,i+1] - points[0,i], points[1,i+1] - points[1,i]])\n",
    "            angle = math.degrees(np.arccos( vector[1] / np.linalg.norm(vector) ))\n",
    "            angles.append(angle)\n",
    "\n",
    "        # Place into bins.\n",
    "        bins = np.linspace(0.0, 360.0, num=bins + 1)\n",
    "        covered_bins = set(np.digitize(angles, bins))\n",
    "\n",
    "        return len(covered_bins) / len(bins)\n",
    "\n",
    "    X, _, _ = test_repository.get()\n",
    "\n",
    "    data = [road_coverage(sut_input, bins) for sut_input in X]\n",
    "\n",
    "    return data\n",
    "\n",
    "def euclidean_diversity(test_repository, adjusted_points, threshold):\n",
    "    \"\"\"Computes the median of the pairwise Euclidean distances of the\n",
    "    failed tests of the given test suite after the roads of the test suite\n",
    "    have been normalized to have a common number of points and turned into\n",
    "    angles.\"\"\"\n",
    "\n",
    "    def adjust_road_signal(road_points, points):\n",
    "        \"\"\"Adjusts an interpolated road to have the specified number of points.\"\"\"\n",
    "\n",
    "        # Notice that the road points are given a signal of plane points of shape\n",
    "        # (2, N).\n",
    "        road_points = np.transpose(road_points).reshape(-1, 2)\n",
    "        idx = np.round(np.linspace(0, len(road_points) - 1, points)).astype(int)\n",
    "        adjusted = road_points[idx]\n",
    "        return move_road(adjusted, 0, 0)\n",
    "\n",
    "    X, _, Y = test_repository.get()\n",
    "    Y = np.array(Y).reshape(-1)\n",
    "\n",
    "    converted_failed_tests = []\n",
    "    for n in range(len(Y)):\n",
    "        if Y[n] >= threshold: continue\n",
    "        # Adjust the road to have a common number of points.\n",
    "        adjusted_road = adjust_road_signal(X[n].input_denormalized, adjusted_points)\n",
    "        # Convert the adjusted road into a sequence of angles.\n",
    "        diff = np.diff(adjusted_road, axis=0)\n",
    "        angles = np.arctan2(diff[:,0], diff[:,1])\n",
    "        converted_failed_tests.append(angles)\n",
    "\n",
    "    # Compute pairwise Euclidean distances for the tests.\n",
    "    euclidean_distances = [np.linalg.norm(t1 - t2) for t1, t2 in itertools.combinations(converted_failed_tests, 2)]\n",
    "    # Compute the median Euclidean distance.\n",
    "    median = np.median(euclidean_distances)\n",
    "\n",
    "    return median"
   ]
  },
  {
   "cell_type": "markdown",
   "id": "50b41690",
   "metadata": {},
   "source": [
    "# Load Experiments"
   ]
  },
  {
   "cell_type": "code",
   "execution_count": null,
   "id": "57172ce9",
   "metadata": {},
   "outputs": [],
   "source": [
    "output_path_base = os.path.join(\"..\", \"..\", \"output\")\n",
    "\n",
    "# Replica prefixes for collecting the experiments.\n",
    "replica_prefixes = {\n",
    "    \"SBST\": [\"SBST_OLD\"]\n",
    "}\n",
    "\n",
    "experiments = loadExperiments(output_path_base, [\"SBST\"], replica_prefixes)\n",
    "experiments = experiments[\"SBST\"]\n",
    "\n",
    "failure_threshold = 0.05"
   ]
  },
  {
   "cell_type": "markdown",
   "id": "90a039b3",
   "metadata": {
    "heading_collapsed": true
   },
   "source": [
    "# Number of Failed Tests"
   ]
  },
  {
   "cell_type": "code",
   "execution_count": null,
   "id": "7836ee67",
   "metadata": {
    "hidden": true
   },
   "outputs": [],
   "source": [
    "def number_of_failed_tests(experiment, threshold):\n",
    "    out = []\n",
    "    for result in experiment:\n",
    "        _, _, Y = result.test_repository.get()\n",
    "        Y = np.array(Y).reshape(-1)\n",
    "        N = sum(y <= threshold for y in Y)\n",
    "        out.append(N)\n",
    "\n",
    "    return out"
   ]
  },
  {
   "cell_type": "code",
   "execution_count": null,
   "id": "f821f888",
   "metadata": {
    "hidden": true
   },
   "outputs": [],
   "source": [
    "data = []\n",
    "for identifier in experiments:\n",
    "    failed_tests = number_of_failed_tests(experiments[identifier], failure_threshold)\n",
    "    data.append(failed_tests)\n",
    "    print(failed_tests)\n",
    "\n",
    "own_boxplot(data, list(experiments), title=\"Number of Failed Tests\", ylabel=\"Number of Failed Tests\")"
   ]
  },
  {
   "cell_type": "markdown",
   "id": "01d23761",
   "metadata": {
    "heading_collapsed": true
   },
   "source": [
    "# Test Suite Diversity"
   ]
  },
  {
   "cell_type": "code",
   "execution_count": null,
   "id": "a233878f",
   "metadata": {
    "hidden": true
   },
   "outputs": [],
   "source": [
    "def test_suite_euclidean_diversity(experiment, threshold):\n",
    "    # We have determined this number experimentally.\n",
    "    adjusted_points = 75\n",
    "    return [euclidean_diversity(result.test_repository, adjusted_points, threshold) for result in experiment]"
   ]
  },
  {
   "cell_type": "code",
   "execution_count": null,
   "id": "fe3da48a",
   "metadata": {
    "hidden": true
   },
   "outputs": [],
   "source": [
    "# We have determined this number experimentally.\n",
    "adjusted_points = 75\n",
    "\n",
    "diversity_values = [[euclidean_diversity(result.test_repository, adjusted_points, failure_threshold) for result in experiments[identifier]] for identifier in experiments]\n",
    "\n",
    "#print(diversity_values)\n",
    "own_boxplot(diversity_values, list(experiments), title=\"Test Suite Diversity Euclidean\", ylabel=\"Test Suite Diversity Euclidean\")"
   ]
  },
  {
   "cell_type": "code",
   "execution_count": null,
   "id": "1c2f8782",
   "metadata": {
    "hidden": true
   },
   "outputs": [],
   "source": [
    "diversity_values = [[steering_sd(result.test_repository) for result in experiments[identifier]] for identifier in experiments]\n",
    "\n",
    "print(diversity_values)"
   ]
  },
  {
   "cell_type": "code",
   "execution_count": null,
   "id": "6f8e691e",
   "metadata": {
    "hidden": true
   },
   "outputs": [],
   "source": [
    "diversity_values = [[direction_coverage(result.test_repository) for result in experiments[identifier]] for identifier in experiments]\n",
    "\n",
    "print(diversity_values)"
   ]
  },
  {
   "cell_type": "markdown",
   "id": "b091c831",
   "metadata": {},
   "source": [
    "# Replica Road Visualization"
   ]
  },
  {
   "cell_type": "code",
   "execution_count": null,
   "id": "e0e87aaf",
   "metadata": {},
   "outputs": [],
   "source": [
    "experiment_identifier = \"SBST_OLD\"\n",
    "replica = 0\n",
    "\n",
    "start = 200\n",
    "end = 300\n",
    "#end = experiments[experiment_identifier][replica].test_repository.tests\n",
    "\n",
    "road_visualization(experiments[experiment_identifier][replica], start, end)"
   ]
  }
 ],
 "metadata": {
  "kernelspec": {
   "display_name": "venv",
   "language": "python",
   "name": "venv"
  },
  "language_info": {
   "codemirror_mode": {
    "name": "ipython",
    "version": 3
   },
   "file_extension": ".py",
   "mimetype": "text/x-python",
   "name": "python",
   "nbconvert_exporter": "python",
   "pygments_lexer": "ipython3",
   "version": "3.9.15"
  }
 },
 "nbformat": 4,
 "nbformat_minor": 5
}

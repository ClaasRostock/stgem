{
 "cells": [
  {
   "cell_type": "code",
   "execution_count": 1,
   "id": "99f46187",
   "metadata": {},
   "outputs": [],
   "source": [
    "import math\n",
    "import sys\n",
    "sys.path.append(\"..\") # go to parent dir\n",
    "%load_ext autoreload\n",
    "%autoreload 2"
   ]
  },
  {
   "cell_type": "code",
   "execution_count": 2,
   "id": "cc243ec9",
   "metadata": {},
   "outputs": [],
   "source": [
    "from job import JobResult"
   ]
  },
  {
   "cell_type": "code",
   "execution_count": 3,
   "id": "803b3bd6",
   "metadata": {},
   "outputs": [],
   "source": [
    "# Analysis"
   ]
  },
  {
   "cell_type": "code",
   "execution_count": 4,
   "id": "2b07a300",
   "metadata": {},
   "outputs": [],
   "source": [
    "r1=JobResult.restore_from_file(\"temp.pickle\")"
   ]
  },
  {
   "cell_type": "code",
   "execution_count": 12,
   "id": "57270574",
   "metadata": {},
   "outputs": [
    {
     "data": {
      "text/plain": [
       "{'sut': 'mo3d.MO3D',\n",
       " 'objective_func': ['ObjectiveMaxSelected',\n",
       "  'ObjectiveMaxSelected',\n",
       "  'ObjectiveMaxSelected'],\n",
       " 'objective_func_parameters': [{'selected': [0],\n",
       "   'invert': False,\n",
       "   'scale': True},\n",
       "  {'selected': [1], 'invert': False, 'scale': True},\n",
       "  {'selected': [2], 'invert': False, 'scale': True}],\n",
       " 'objective_selector': 'ObjectiveSelectorMAB',\n",
       " 'objective_selector_parameters': {'warm_up': 30},\n",
       " 'algorithm': 'random.Random',\n",
       " 'algorithm_parameters': {'use_predefined_random_data': False,\n",
       "  'predefined_random_data': {'test_inputs': None, 'test_outputs': None},\n",
       "  'device': device(type='cpu'),\n",
       "  'N_tests': 300,\n",
       "  'N_random_init': 50},\n",
       " 'job_parameters': {'N_tests': 300,\n",
       "  'N_random_init': 50,\n",
       "  'mode': 'stop_at_first_falsification'},\n",
       " 'sut_parameters': {}}"
      ]
     },
     "execution_count": 12,
     "metadata": {},
     "output_type": "execute_result"
    }
   ],
   "source": [
    "r1.description "
   ]
  },
  {
   "cell_type": "code",
   "execution_count": 5,
   "id": "34960c74",
   "metadata": {},
   "outputs": [
    {
     "data": {
      "text/plain": [
       "False"
      ]
     },
     "execution_count": 5,
     "metadata": {},
     "output_type": "execute_result"
    }
   ],
   "source": [
    "r1.falsified"
   ]
  },
  {
   "cell_type": "code",
   "execution_count": 7,
   "id": "1373f4b8",
   "metadata": {},
   "outputs": [
    {
     "data": {
      "text/plain": [
       "(array([-0.79619186, -0.22453459, -0.40418275]), [1, 0.4926723089764222, 1])"
      ]
     },
     "execution_count": 7,
     "metadata": {},
     "output_type": "execute_result"
    }
   ],
   "source": [
    "r1.test_repository.get(0)"
   ]
  },
  {
   "cell_type": "code",
   "execution_count": 11,
   "id": "6160d067",
   "metadata": {},
   "outputs": [
    {
     "data": {
      "text/plain": [
       "{'generation_time': [0.00018022600000011657],\n",
       " 'N_tests_generated': [1],\n",
       " 'N_invalid_tests_generated': [0],\n",
       " 'training_time': [0]}"
      ]
     },
     "execution_count": 11,
     "metadata": {},
     "output_type": "execute_result"
    }
   ],
   "source": [
    "r1.algorithm_performance.histories"
   ]
  },
  {
   "cell_type": "code",
   "execution_count": 14,
   "id": "e3a79cb1",
   "metadata": {},
   "outputs": [],
   "source": [
    "r2=JobResult.restore_from_file(\"mod3k_python_results.pickle\")"
   ]
  },
  {
   "cell_type": "code",
   "execution_count": 16,
   "id": "e2f60112",
   "metadata": {},
   "outputs": [
    {
     "data": {
      "text/plain": [
       "{'sut': 'python.PythonFunction',\n",
       " 'sut_parameters': {'input_range': [[-15, 15], [-15, 15], [-15, 15]],\n",
       "  'output_range': [[0, 350], [0, 350], [0, 350]],\n",
       "  'function': <function __main__.myfunc(input)>},\n",
       " 'objective_func': ['ObjectiveMaxSelected',\n",
       "  'ObjectiveMaxSelected',\n",
       "  'ObjectiveMaxSelected'],\n",
       " 'objective_func_parameters': [{'selected': [0],\n",
       "   'invert': False,\n",
       "   'scale': True},\n",
       "  {'selected': [1], 'invert': False, 'scale': True},\n",
       "  {'selected': [2], 'invert': False, 'scale': True}],\n",
       " 'objective_selector': 'ObjectiveSelectorMAB',\n",
       " 'objective_selector_parameters': {'warm_up': 30},\n",
       " 'algorithm': 'ogan.OGAN',\n",
       " 'algorithm_parameters': {'input_dimension': 3,\n",
       "  'use_predefined_random_data': False,\n",
       "  'predefined_random_data': {'test_inputs': None, 'test_outputs': None},\n",
       "  'fitness_coef': 0.95,\n",
       "  'train_delay': 0,\n",
       "  'N_candidate_tests': 1,\n",
       "  'ogan_model': 'model_keras.OGANK_Model',\n",
       "  'model_parameters': {'optimizer': 'Adam',\n",
       "   'd_epochs': 10,\n",
       "   'noise_bs': 10000,\n",
       "   'g_epochs': 1,\n",
       "   'd_size': 512,\n",
       "   'g_size': 512,\n",
       "   'd_adam_lr': 0.001,\n",
       "   'g_adam_lr': 0.0001,\n",
       "   'noise_dimensions': 50,\n",
       "   'noise_batch_size': 10000},\n",
       "  'train_settings_init': {'epochs': 1,\n",
       "   'discriminator_epochs': 10,\n",
       "   'generator_epochs': 1},\n",
       "  'train_settings': {'epochs': 1,\n",
       "   'discriminator_epochs': 10,\n",
       "   'generator_epochs': 1},\n",
       "  'device': device(type='cpu'),\n",
       "  'N_tests': 80,\n",
       "  'N_random_init': 20},\n",
       " 'job_parameters': {'N_tests': 80,\n",
       "  'N_random_init': 20,\n",
       "  'mode': 'stop_at_first_falsification'}}"
      ]
     },
     "execution_count": 16,
     "metadata": {},
     "output_type": "execute_result"
    }
   ],
   "source": [
    "r2.description"
   ]
  },
  {
   "cell_type": "code",
   "execution_count": 19,
   "id": "6ca9624c",
   "metadata": {},
   "outputs": [
    {
     "data": {
      "text/plain": [
       "[206.84159096115434, 444.4144062996156, 89.7211141669256]"
      ]
     },
     "execution_count": 19,
     "metadata": {},
     "output_type": "execute_result"
    }
   ],
   "source": [
    "r2.description[\"sut_parameters\"][\"function\"]([1,1,1])"
   ]
  },
  {
   "cell_type": "code",
   "execution_count": null,
   "id": "40960993",
   "metadata": {},
   "outputs": [],
   "source": []
  }
 ],
 "metadata": {
  "kernelspec": {
   "display_name": "Python 3 (ipykernel)",
   "language": "python",
   "name": "python3"
  },
  "language_info": {
   "codemirror_mode": {
    "name": "ipython",
    "version": 3
   },
   "file_extension": ".py",
   "mimetype": "text/x-python",
   "name": "python",
   "nbconvert_exporter": "python",
   "pygments_lexer": "ipython3",
   "version": "3.9.7"
  }
 },
 "nbformat": 4,
 "nbformat_minor": 5
}